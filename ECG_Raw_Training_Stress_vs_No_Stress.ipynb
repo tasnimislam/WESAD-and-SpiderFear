{
  "cells": [
    {
      "cell_type": "code",
      "execution_count": null,
      "metadata": {
        "colab": {
          "base_uri": "https://localhost:8080/"
        },
        "id": "uqOsLTQQvDeb",
        "outputId": "d46181bf-9160-4d68-bc11-8b272d7be23e"
      },
      "outputs": [
        {
          "name": "stdout",
          "output_type": "stream",
          "text": [
            "Drive already mounted at /content/drive; to attempt to forcibly remount, call drive.mount(\"/content/drive\", force_remount=True).\n"
          ]
        }
      ],
      "source": [
        "from google.colab import drive\n",
        "drive.mount('/content/drive')"
      ]
    },
    {
      "cell_type": "code",
      "execution_count": null,
      "metadata": {
        "id": "dO1xRSIgviXt"
      },
      "outputs": [],
      "source": [
        "import pandas as pd\n",
        "import numpy as np\n",
        "from tqdm import tqdm\n",
        "from glob import glob\n",
        "import pickle\n",
        "import re"
      ]
    },
    {
      "cell_type": "code",
      "execution_count": null,
      "metadata": {
        "id": "7LWWv_lsvk-4"
      },
      "outputs": [],
      "source": [
        "def dfWindowECG(df, dfList, labelList):\n",
        "  index = 0\n",
        "  while(index+int(60*700)<len(df)):\n",
        "    dfList.append(np.array(df['c_ecg'][index:index+int(60*700)]))\n",
        "    if int(df['w_label'][index])==3:\n",
        "      labelList.append(2)\n",
        "    else:\n",
        "      labelList.append(int(df['w_label'][index]))\n",
        "    index = index + int(0.25*700)\n",
        "  return dfList, labelList"
      ]
    },
    {
      "cell_type": "code",
      "execution_count": null,
      "metadata": {
        "colab": {
          "base_uri": "https://localhost:8080/",
          "height": 206
        },
        "id": "9DlqcEtYvl1g",
        "outputId": "f0f06900-efdd-4743-f3b3-4beb191fe9d0"
      },
      "outputs": [
        {
          "data": {
            "application/vnd.google.colaboratory.intrinsic+json": {
              "type": "dataframe",
              "variable_name": "dfMain"
            },
            "text/html": [
              "\n",
              "  <div id=\"df-cc6ad741-ff94-4fc3-ad47-dfc0644e63c5\" class=\"colab-df-container\">\n",
              "    <div>\n",
              "<style scoped>\n",
              "    .dataframe tbody tr th:only-of-type {\n",
              "        vertical-align: middle;\n",
              "    }\n",
              "\n",
              "    .dataframe tbody tr th {\n",
              "        vertical-align: top;\n",
              "    }\n",
              "\n",
              "    .dataframe thead th {\n",
              "        text-align: right;\n",
              "    }\n",
              "</style>\n",
              "<table border=\"1\" class=\"dataframe\">\n",
              "  <thead>\n",
              "    <tr style=\"text-align: right;\">\n",
              "      <th></th>\n",
              "      <th>c_ax</th>\n",
              "      <th>c_ay</th>\n",
              "      <th>c_az</th>\n",
              "      <th>c_ecg</th>\n",
              "      <th>c_emg</th>\n",
              "      <th>c_eda</th>\n",
              "      <th>c_temp</th>\n",
              "      <th>c_resp</th>\n",
              "      <th>w_label</th>\n",
              "    </tr>\n",
              "  </thead>\n",
              "  <tbody>\n",
              "    <tr>\n",
              "      <th>0</th>\n",
              "      <td>0.9128</td>\n",
              "      <td>-0.0858</td>\n",
              "      <td>-0.0858</td>\n",
              "      <td>0.172073</td>\n",
              "      <td>-0.013321</td>\n",
              "      <td>2.141571</td>\n",
              "      <td>33.780762</td>\n",
              "      <td>6.053162</td>\n",
              "      <td>1.0</td>\n",
              "    </tr>\n",
              "    <tr>\n",
              "      <th>1</th>\n",
              "      <td>0.9122</td>\n",
              "      <td>-0.0866</td>\n",
              "      <td>-0.0862</td>\n",
              "      <td>0.157242</td>\n",
              "      <td>0.006180</td>\n",
              "      <td>2.154922</td>\n",
              "      <td>33.774689</td>\n",
              "      <td>6.065369</td>\n",
              "      <td>1.0</td>\n",
              "    </tr>\n",
              "    <tr>\n",
              "      <th>2</th>\n",
              "      <td>0.9140</td>\n",
              "      <td>-0.0890</td>\n",
              "      <td>-0.0838</td>\n",
              "      <td>0.143967</td>\n",
              "      <td>0.004440</td>\n",
              "      <td>2.141571</td>\n",
              "      <td>33.723114</td>\n",
              "      <td>6.071472</td>\n",
              "      <td>1.0</td>\n",
              "    </tr>\n",
              "    <tr>\n",
              "      <th>3</th>\n",
              "      <td>0.9146</td>\n",
              "      <td>-0.0890</td>\n",
              "      <td>-0.0822</td>\n",
              "      <td>0.144882</td>\n",
              "      <td>-0.019180</td>\n",
              "      <td>2.159119</td>\n",
              "      <td>33.789917</td>\n",
              "      <td>6.065369</td>\n",
              "      <td>1.0</td>\n",
              "    </tr>\n",
              "    <tr>\n",
              "      <th>4</th>\n",
              "      <td>0.9150</td>\n",
              "      <td>-0.0878</td>\n",
              "      <td>-0.0798</td>\n",
              "      <td>0.149963</td>\n",
              "      <td>-0.027008</td>\n",
              "      <td>2.142334</td>\n",
              "      <td>33.782318</td>\n",
              "      <td>6.074524</td>\n",
              "      <td>1.0</td>\n",
              "    </tr>\n",
              "  </tbody>\n",
              "</table>\n",
              "</div>\n",
              "    <div class=\"colab-df-buttons\">\n",
              "\n",
              "  <div class=\"colab-df-container\">\n",
              "    <button class=\"colab-df-convert\" onclick=\"convertToInteractive('df-cc6ad741-ff94-4fc3-ad47-dfc0644e63c5')\"\n",
              "            title=\"Convert this dataframe to an interactive table.\"\n",
              "            style=\"display:none;\">\n",
              "\n",
              "  <svg xmlns=\"http://www.w3.org/2000/svg\" height=\"24px\" viewBox=\"0 -960 960 960\">\n",
              "    <path d=\"M120-120v-720h720v720H120Zm60-500h600v-160H180v160Zm220 220h160v-160H400v160Zm0 220h160v-160H400v160ZM180-400h160v-160H180v160Zm440 0h160v-160H620v160ZM180-180h160v-160H180v160Zm440 0h160v-160H620v160Z\"/>\n",
              "  </svg>\n",
              "    </button>\n",
              "\n",
              "  <style>\n",
              "    .colab-df-container {\n",
              "      display:flex;\n",
              "      gap: 12px;\n",
              "    }\n",
              "\n",
              "    .colab-df-convert {\n",
              "      background-color: #E8F0FE;\n",
              "      border: none;\n",
              "      border-radius: 50%;\n",
              "      cursor: pointer;\n",
              "      display: none;\n",
              "      fill: #1967D2;\n",
              "      height: 32px;\n",
              "      padding: 0 0 0 0;\n",
              "      width: 32px;\n",
              "    }\n",
              "\n",
              "    .colab-df-convert:hover {\n",
              "      background-color: #E2EBFA;\n",
              "      box-shadow: 0px 1px 2px rgba(60, 64, 67, 0.3), 0px 1px 3px 1px rgba(60, 64, 67, 0.15);\n",
              "      fill: #174EA6;\n",
              "    }\n",
              "\n",
              "    .colab-df-buttons div {\n",
              "      margin-bottom: 4px;\n",
              "    }\n",
              "\n",
              "    [theme=dark] .colab-df-convert {\n",
              "      background-color: #3B4455;\n",
              "      fill: #D2E3FC;\n",
              "    }\n",
              "\n",
              "    [theme=dark] .colab-df-convert:hover {\n",
              "      background-color: #434B5C;\n",
              "      box-shadow: 0px 1px 3px 1px rgba(0, 0, 0, 0.15);\n",
              "      filter: drop-shadow(0px 1px 2px rgba(0, 0, 0, 0.3));\n",
              "      fill: #FFFFFF;\n",
              "    }\n",
              "  </style>\n",
              "\n",
              "    <script>\n",
              "      const buttonEl =\n",
              "        document.querySelector('#df-cc6ad741-ff94-4fc3-ad47-dfc0644e63c5 button.colab-df-convert');\n",
              "      buttonEl.style.display =\n",
              "        google.colab.kernel.accessAllowed ? 'block' : 'none';\n",
              "\n",
              "      async function convertToInteractive(key) {\n",
              "        const element = document.querySelector('#df-cc6ad741-ff94-4fc3-ad47-dfc0644e63c5');\n",
              "        const dataTable =\n",
              "          await google.colab.kernel.invokeFunction('convertToInteractive',\n",
              "                                                    [key], {});\n",
              "        if (!dataTable) return;\n",
              "\n",
              "        const docLinkHtml = 'Like what you see? Visit the ' +\n",
              "          '<a target=\"_blank\" href=https://colab.research.google.com/notebooks/data_table.ipynb>data table notebook</a>'\n",
              "          + ' to learn more about interactive tables.';\n",
              "        element.innerHTML = '';\n",
              "        dataTable['output_type'] = 'display_data';\n",
              "        await google.colab.output.renderOutput(dataTable, element);\n",
              "        const docLink = document.createElement('div');\n",
              "        docLink.innerHTML = docLinkHtml;\n",
              "        element.appendChild(docLink);\n",
              "      }\n",
              "    </script>\n",
              "  </div>\n",
              "\n",
              "\n",
              "<div id=\"df-49e00e60-a349-4855-b63c-b12ab6540de1\">\n",
              "  <button class=\"colab-df-quickchart\" onclick=\"quickchart('df-49e00e60-a349-4855-b63c-b12ab6540de1')\"\n",
              "            title=\"Suggest charts\"\n",
              "            style=\"display:none;\">\n",
              "\n",
              "<svg xmlns=\"http://www.w3.org/2000/svg\" height=\"24px\"viewBox=\"0 0 24 24\"\n",
              "     width=\"24px\">\n",
              "    <g>\n",
              "        <path d=\"M19 3H5c-1.1 0-2 .9-2 2v14c0 1.1.9 2 2 2h14c1.1 0 2-.9 2-2V5c0-1.1-.9-2-2-2zM9 17H7v-7h2v7zm4 0h-2V7h2v10zm4 0h-2v-4h2v4z\"/>\n",
              "    </g>\n",
              "</svg>\n",
              "  </button>\n",
              "\n",
              "<style>\n",
              "  .colab-df-quickchart {\n",
              "      --bg-color: #E8F0FE;\n",
              "      --fill-color: #1967D2;\n",
              "      --hover-bg-color: #E2EBFA;\n",
              "      --hover-fill-color: #174EA6;\n",
              "      --disabled-fill-color: #AAA;\n",
              "      --disabled-bg-color: #DDD;\n",
              "  }\n",
              "\n",
              "  [theme=dark] .colab-df-quickchart {\n",
              "      --bg-color: #3B4455;\n",
              "      --fill-color: #D2E3FC;\n",
              "      --hover-bg-color: #434B5C;\n",
              "      --hover-fill-color: #FFFFFF;\n",
              "      --disabled-bg-color: #3B4455;\n",
              "      --disabled-fill-color: #666;\n",
              "  }\n",
              "\n",
              "  .colab-df-quickchart {\n",
              "    background-color: var(--bg-color);\n",
              "    border: none;\n",
              "    border-radius: 50%;\n",
              "    cursor: pointer;\n",
              "    display: none;\n",
              "    fill: var(--fill-color);\n",
              "    height: 32px;\n",
              "    padding: 0;\n",
              "    width: 32px;\n",
              "  }\n",
              "\n",
              "  .colab-df-quickchart:hover {\n",
              "    background-color: var(--hover-bg-color);\n",
              "    box-shadow: 0 1px 2px rgba(60, 64, 67, 0.3), 0 1px 3px 1px rgba(60, 64, 67, 0.15);\n",
              "    fill: var(--button-hover-fill-color);\n",
              "  }\n",
              "\n",
              "  .colab-df-quickchart-complete:disabled,\n",
              "  .colab-df-quickchart-complete:disabled:hover {\n",
              "    background-color: var(--disabled-bg-color);\n",
              "    fill: var(--disabled-fill-color);\n",
              "    box-shadow: none;\n",
              "  }\n",
              "\n",
              "  .colab-df-spinner {\n",
              "    border: 2px solid var(--fill-color);\n",
              "    border-color: transparent;\n",
              "    border-bottom-color: var(--fill-color);\n",
              "    animation:\n",
              "      spin 1s steps(1) infinite;\n",
              "  }\n",
              "\n",
              "  @keyframes spin {\n",
              "    0% {\n",
              "      border-color: transparent;\n",
              "      border-bottom-color: var(--fill-color);\n",
              "      border-left-color: var(--fill-color);\n",
              "    }\n",
              "    20% {\n",
              "      border-color: transparent;\n",
              "      border-left-color: var(--fill-color);\n",
              "      border-top-color: var(--fill-color);\n",
              "    }\n",
              "    30% {\n",
              "      border-color: transparent;\n",
              "      border-left-color: var(--fill-color);\n",
              "      border-top-color: var(--fill-color);\n",
              "      border-right-color: var(--fill-color);\n",
              "    }\n",
              "    40% {\n",
              "      border-color: transparent;\n",
              "      border-right-color: var(--fill-color);\n",
              "      border-top-color: var(--fill-color);\n",
              "    }\n",
              "    60% {\n",
              "      border-color: transparent;\n",
              "      border-right-color: var(--fill-color);\n",
              "    }\n",
              "    80% {\n",
              "      border-color: transparent;\n",
              "      border-right-color: var(--fill-color);\n",
              "      border-bottom-color: var(--fill-color);\n",
              "    }\n",
              "    90% {\n",
              "      border-color: transparent;\n",
              "      border-bottom-color: var(--fill-color);\n",
              "    }\n",
              "  }\n",
              "</style>\n",
              "\n",
              "  <script>\n",
              "    async function quickchart(key) {\n",
              "      const quickchartButtonEl =\n",
              "        document.querySelector('#' + key + ' button');\n",
              "      quickchartButtonEl.disabled = true;  // To prevent multiple clicks.\n",
              "      quickchartButtonEl.classList.add('colab-df-spinner');\n",
              "      try {\n",
              "        const charts = await google.colab.kernel.invokeFunction(\n",
              "            'suggestCharts', [key], {});\n",
              "      } catch (error) {\n",
              "        console.error('Error during call to suggestCharts:', error);\n",
              "      }\n",
              "      quickchartButtonEl.classList.remove('colab-df-spinner');\n",
              "      quickchartButtonEl.classList.add('colab-df-quickchart-complete');\n",
              "    }\n",
              "    (() => {\n",
              "      let quickchartButtonEl =\n",
              "        document.querySelector('#df-49e00e60-a349-4855-b63c-b12ab6540de1 button');\n",
              "      quickchartButtonEl.style.display =\n",
              "        google.colab.kernel.accessAllowed ? 'block' : 'none';\n",
              "    })();\n",
              "  </script>\n",
              "</div>\n",
              "    </div>\n",
              "  </div>\n"
            ],
            "text/plain": [
              "     c_ax    c_ay    c_az     c_ecg     c_emg     c_eda     c_temp    c_resp  \\\n",
              "0  0.9128 -0.0858 -0.0858  0.172073 -0.013321  2.141571  33.780762  6.053162   \n",
              "1  0.9122 -0.0866 -0.0862  0.157242  0.006180  2.154922  33.774689  6.065369   \n",
              "2  0.9140 -0.0890 -0.0838  0.143967  0.004440  2.141571  33.723114  6.071472   \n",
              "3  0.9146 -0.0890 -0.0822  0.144882 -0.019180  2.159119  33.789917  6.065369   \n",
              "4  0.9150 -0.0878 -0.0798  0.149963 -0.027008  2.142334  33.782318  6.074524   \n",
              "\n",
              "   w_label  \n",
              "0      1.0  \n",
              "1      1.0  \n",
              "2      1.0  \n",
              "3      1.0  \n",
              "4      1.0  "
            ]
          },
          "execution_count": 4,
          "metadata": {},
          "output_type": "execute_result"
        }
      ],
      "source": [
        "CSV_FILE_PATH = '/content/drive/MyDrive/PhD research/Stress Detection/9/9_Class_1.csv'\n",
        "dfMain = pd.read_csv(CSV_FILE_PATH)\n",
        "dfMain.head()"
      ]
    },
    {
      "cell_type": "code",
      "execution_count": null,
      "metadata": {
        "id": "xOET0YXRv4uW"
      },
      "outputs": [],
      "source": [
        "dfList = []\n",
        "labelList = []"
      ]
    },
    {
      "cell_type": "code",
      "execution_count": null,
      "metadata": {
        "colab": {
          "base_uri": "https://localhost:8080/"
        },
        "id": "MTsYcM-fv6Cm",
        "outputId": "2b29bb9c-559d-4c2a-c85d-3cceb726b857"
      },
      "outputs": [
        {
          "name": "stderr",
          "output_type": "stream",
          "text": [
            "100%|██████████| 9/9 [00:22<00:00,  2.45s/it]\n"
          ]
        }
      ],
      "source": [
        "filesList = glob('/content/drive/MyDrive/PhD research/Stress Detection/[5, 6, 7]/*')\n",
        "\n",
        "for fCsv in tqdm(filesList):\n",
        "  dfMain = pd.read_csv(fCsv)\n",
        "  dfList, labelList = dfWindowECG(dfMain, dfList, labelList)"
      ]
    },
    {
      "cell_type": "code",
      "execution_count": null,
      "metadata": {
        "colab": {
          "base_uri": "https://localhost:8080/"
        },
        "id": "YmGJvlTFzlLu",
        "outputId": "280e9acf-6df6-454a-f3aa-2f0e63502d4b"
      },
      "outputs": [
        {
          "data": {
            "text/plain": [
              "(24309, 24309)"
            ]
          },
          "execution_count": 7,
          "metadata": {},
          "output_type": "execute_result"
        }
      ],
      "source": [
        "len(dfList), len(labelList)"
      ]
    },
    {
      "cell_type": "code",
      "execution_count": null,
      "metadata": {
        "id": "RX7s3lqa_q_5"
      },
      "outputs": [],
      "source": [
        "import torch\n",
        "from torch.utils.data import Dataset, DataLoader\n",
        "from torch.utils.data import DataLoader, random_split\n",
        "import torch.nn as nn"
      ]
    },
    {
      "cell_type": "code",
      "execution_count": null,
      "metadata": {
        "id": "aGhaL2Cw-6n2"
      },
      "outputs": [],
      "source": [
        "class StressWESAD(Dataset):\n",
        "    def __init__(self, dataList, labelList):\n",
        "        self.data = dataList\n",
        "        self.labelList = labelList\n",
        "    def __len__(self):\n",
        "        return len(self.data)\n",
        "    def __getitem__(self, idx):\n",
        "        data = torch.tensor([self.data[idx]])\n",
        "        data = torch.permute(data, (1, 0)).type(torch.FloatTensor)\n",
        "        label = torch.tensor(self.labelList[idx] - 1) # map labels to 0,1\n",
        "\n",
        "        return data, label"
      ]
    },
    {
      "cell_type": "code",
      "execution_count": null,
      "metadata": {
        "colab": {
          "base_uri": "https://localhost:8080/"
        },
        "id": "5_l7kmuWBBV8",
        "outputId": "2762e06d-5308-459a-8eb7-68fe874adcef"
      },
      "outputs": [
        {
          "data": {
            "text/plain": [
              "<torch._C.Generator at 0x78f58196f430>"
            ]
          },
          "execution_count": 10,
          "metadata": {},
          "output_type": "execute_result"
        }
      ],
      "source": [
        "DATA_STORE_PATH = '/content/drive/MyDrive/PhD research/Stress Detection'\n",
        "SAVE_WEIGHT_PATH = '/content/drive/MyDrive/PhD research/Stress Detection/WESAD training/5_6_7 on top of 2_3_4 conv1d'\n",
        "torch.manual_seed(0)"
      ]
    },
    {
      "cell_type": "code",
      "execution_count": null,
      "metadata": {
        "id": "Dqt6JOGLAW_6"
      },
      "outputs": [],
      "source": [
        "trainDataset = StressWESAD(dfList, labelList)\n",
        "lengths = [int(len(trainDataset)*0.8), len(trainDataset) - int(len(trainDataset)*0.8)]\n",
        "train, valid = random_split(trainDataset, lengths)"
      ]
    },
    {
      "cell_type": "markdown",
      "metadata": {
        "id": "qn8yO0AfByCi"
      },
      "source": [
        "# CNN1D model"
      ]
    },
    {
      "cell_type": "code",
      "execution_count": null,
      "metadata": {
        "id": "ldVLBnrQBPw4"
      },
      "outputs": [],
      "source": [
        "device = torch.device(\"cuda:0\" if torch.cuda.is_available() else \"cpu\")\n",
        "n_features = 700*60\n",
        "n_classes = 2\n",
        "\n",
        "class ConvNet1D(nn.Module):\n",
        "    def __init__(self):\n",
        "        super().__init__()\n",
        "        self.layer1 = nn.Sequential(\n",
        "            nn.Conv1d(n_features, 64, kernel_size=1),\n",
        "            nn.ReLU(),\n",
        "            nn.Dropout(0.5))\n",
        "        self.layer2 = nn.Flatten()\n",
        "        self.layer3 = nn.Sequential(\n",
        "            nn.Linear(64,100),\n",
        "            nn.ReLU())\n",
        "        self.layer4 = nn.Sequential(\n",
        "            nn.Linear(100,n_classes),\n",
        "            nn.Softmax())\n",
        "\n",
        "    def forward(self, x):\n",
        "        out = self.layer1(x)\n",
        "        out = self.layer2(out)\n",
        "        out = self.layer3(out)\n",
        "        out = self.layer4(out)\n",
        "        return out\n",
        "\n",
        "model = ConvNet1D()\n",
        "# Loss and optimizer\n",
        "criterion = nn.CrossEntropyLoss()\n",
        "optimizer = torch.optim.Adam(model.parameters(), lr=0.001)"
      ]
    },
    {
      "cell_type": "code",
      "execution_count": null,
      "metadata": {
        "id": "SDA-UNbuOFcR"
      },
      "outputs": [],
      "source": [
        "def getLastEpoch(folderName):\n",
        "  '''\n",
        "  Make sure last number is the epoch number\n",
        "  gets input the weight path folder name\n",
        "  '''\n",
        "  files = glob(SAVE_WEIGHT_PATH + '/*')\n",
        "\n",
        "  epochNumbers = []\n",
        "  for fileName in files:\n",
        "    numbers = re.findall(r'\\d+', fileName)\n",
        "    epochNumbers.append(int(numbers[-1]))\n",
        "\n",
        "  lastUpdated = max(epochNumbers)\n",
        "\n",
        "  for filename in reversed(files):\n",
        "    if str(lastUpdated) in filename:\n",
        "      return lastUpdated, fileName"
      ]
    },
    {
      "cell_type": "code",
      "execution_count": null,
      "metadata": {
        "id": "esPM8DuaCps5"
      },
      "outputs": [],
      "source": [
        "class ConvNet1D_training():\n",
        "  def __init__(self, cnn_network, optimizer):\n",
        "    self.network = cnn_network\n",
        "    self.optimizer = torch.optim.Adam(self.network.parameters(), lr=1e-3)\n",
        "\n",
        "  def train(self, loss_function, epochs, batch_size, training_set, resume):\n",
        "\n",
        "      #  creating log\n",
        "      log_dict = {\n",
        "          'training_loss_per_batch': [],\n",
        "          'validation_loss_per_batch': [],\n",
        "          'visualizations': []\n",
        "      }\n",
        "\n",
        "      #  defining weight initialization function\n",
        "      def init_weights(module):\n",
        "        if isinstance(module, nn.Conv2d):\n",
        "          torch.nn.init.xavier_uniform_(module.weight)\n",
        "          module.bias.data.fill_(0.01)\n",
        "        elif isinstance(module, nn.Linear):\n",
        "          torch.nn.init.xavier_uniform_(module.weight)\n",
        "          module.bias.data.fill_(0.01)\n",
        "\n",
        "      #  initializing network weights\n",
        "      self.network.apply(init_weights)\n",
        "\n",
        "      #  creating dataloaders\n",
        "      train_loader = DataLoader(training_set, batch_size=batch_size, num_workers=1, shuffle=True)\n",
        "      # val_loader = DataLoader(validation_set, batch_size=10, num_workers=1, shuffle=True)\n",
        "      # test_loader = DataLoader(test_set, batch_size=10, num_workers=1, shuffle=True)\n",
        "\n",
        "      #  setting convnet to training mode\n",
        "      self.network.train()\n",
        "      self.network.to(device)\n",
        "\n",
        "      if resume==True:\n",
        "        lastEpoch, loadFileName = getLastEpoch(SAVE_WEIGHT_PATH)\n",
        "        print(loadFileName)\n",
        "\n",
        "        self.network.load_state_dict(torch.load(loadFileName))\n",
        "\n",
        "      else:\n",
        "        lastEpoch = 0\n",
        "\n",
        "      for epoch in range(epochs):\n",
        "        print(f'Epoch {epoch+1}/{epochs}')\n",
        "        train_losses = []\n",
        "\n",
        "        #------------\n",
        "        #  TRAINING\n",
        "        #------------\n",
        "        print('training...')\n",
        "        for images, labels in tqdm(train_loader):\n",
        "          #  zeroing gradients\n",
        "          self.optimizer.zero_grad()\n",
        "          #  sending images to device\n",
        "          images = images.to(device)\n",
        "          #  reconstructing images\n",
        "          output = self.network(images)\n",
        "          #  computing loss\n",
        "\n",
        "          loss = loss_function(output, labels)\n",
        "          #  calculating gradients\n",
        "          loss.backward()\n",
        "          #  optimizing weights\n",
        "          self.optimizer.step()\n",
        "\n",
        "          #--------------\n",
        "          # LOGGING\n",
        "          #--------------\n",
        "          log_dict['training_loss_per_batch'].append(loss.item())\n",
        "\n",
        "        epochUpdated = lastEpoch + epoch\n",
        "\n",
        "        savePath = SAVE_WEIGHT_PATH + f'/5_6_7_2_3_4_139_feb_37_{epochUpdated}.pth'\n",
        "        torch.save(self.network.state_dict(), savePath)\n",
        "\n",
        "      return log_dict"
      ]
    },
    {
      "cell_type": "code",
      "execution_count": null,
      "metadata": {
        "colab": {
          "background_save": true,
          "base_uri": "https://localhost:8080/"
        },
        "id": "ETA_RZmrEmqO",
        "outputId": "15efce87-d186-4fa6-816c-11e7dcd38f21"
      },
      "outputs": [
        {
          "name": "stdout",
          "output_type": "stream",
          "text": [
            "/content/drive/MyDrive/PhD research/Stress Detection/WESAD training/5_6_7 on top of 2_3_4 conv1d/5_6_7_2_3_4_139_feb_37_88.pth\n",
            "Epoch 1/100\n",
            "training...\n"
          ]
        },
        {
          "name": "stderr",
          "output_type": "stream",
          "text": [
            "  0%|          | 0/1945 [00:00<?, ?it/s]<ipython-input-9-2d309f48c7e0>:8: UserWarning: Creating a tensor from a list of numpy.ndarrays is extremely slow. Please consider converting the list to a single numpy.ndarray with numpy.array() before converting to a tensor. (Triggered internally at ../torch/csrc/utils/tensor_new.cpp:275.)\n",
            "  data = torch.tensor([self.data[idx]])\n",
            "/usr/local/lib/python3.10/dist-packages/torch/nn/modules/module.py:1511: UserWarning: Implicit dimension choice for softmax has been deprecated. Change the call to include dim=X as an argument.\n",
            "  return self._call_impl(*args, **kwargs)\n",
            "100%|██████████| 1945/1945 [04:02<00:00,  8.04it/s]\n"
          ]
        },
        {
          "name": "stdout",
          "output_type": "stream",
          "text": [
            "Epoch 2/100\n",
            "training...\n"
          ]
        },
        {
          "name": "stderr",
          "output_type": "stream",
          "text": [
            "  0%|          | 0/1945 [00:00<?, ?it/s]<ipython-input-9-2d309f48c7e0>:8: UserWarning: Creating a tensor from a list of numpy.ndarrays is extremely slow. Please consider converting the list to a single numpy.ndarray with numpy.array() before converting to a tensor. (Triggered internally at ../torch/csrc/utils/tensor_new.cpp:275.)\n",
            "  data = torch.tensor([self.data[idx]])\n",
            "100%|██████████| 1945/1945 [03:32<00:00,  9.17it/s]\n"
          ]
        },
        {
          "name": "stdout",
          "output_type": "stream",
          "text": [
            "Epoch 3/100\n",
            "training...\n"
          ]
        },
        {
          "name": "stderr",
          "output_type": "stream",
          "text": [
            "  0%|          | 0/1945 [00:00<?, ?it/s]<ipython-input-9-2d309f48c7e0>:8: UserWarning: Creating a tensor from a list of numpy.ndarrays is extremely slow. Please consider converting the list to a single numpy.ndarray with numpy.array() before converting to a tensor. (Triggered internally at ../torch/csrc/utils/tensor_new.cpp:275.)\n",
            "  data = torch.tensor([self.data[idx]])\n",
            "100%|██████████| 1945/1945 [03:36<00:00,  8.98it/s]\n"
          ]
        },
        {
          "name": "stdout",
          "output_type": "stream",
          "text": [
            "Epoch 4/100\n",
            "training...\n"
          ]
        },
        {
          "name": "stderr",
          "output_type": "stream",
          "text": [
            "  0%|          | 0/1945 [00:00<?, ?it/s]<ipython-input-9-2d309f48c7e0>:8: UserWarning: Creating a tensor from a list of numpy.ndarrays is extremely slow. Please consider converting the list to a single numpy.ndarray with numpy.array() before converting to a tensor. (Triggered internally at ../torch/csrc/utils/tensor_new.cpp:275.)\n",
            "  data = torch.tensor([self.data[idx]])\n",
            "100%|██████████| 1945/1945 [03:34<00:00,  9.05it/s]\n"
          ]
        },
        {
          "name": "stdout",
          "output_type": "stream",
          "text": [
            "Epoch 5/100\n",
            "training...\n"
          ]
        },
        {
          "name": "stderr",
          "output_type": "stream",
          "text": [
            "  0%|          | 0/1945 [00:00<?, ?it/s]<ipython-input-9-2d309f48c7e0>:8: UserWarning: Creating a tensor from a list of numpy.ndarrays is extremely slow. Please consider converting the list to a single numpy.ndarray with numpy.array() before converting to a tensor. (Triggered internally at ../torch/csrc/utils/tensor_new.cpp:275.)\n",
            "  data = torch.tensor([self.data[idx]])\n",
            "100%|██████████| 1945/1945 [03:34<00:00,  9.06it/s]\n"
          ]
        },
        {
          "name": "stdout",
          "output_type": "stream",
          "text": [
            "Epoch 6/100\n",
            "training...\n"
          ]
        },
        {
          "name": "stderr",
          "output_type": "stream",
          "text": [
            "  0%|          | 0/1945 [00:00<?, ?it/s]<ipython-input-9-2d309f48c7e0>:8: UserWarning: Creating a tensor from a list of numpy.ndarrays is extremely slow. Please consider converting the list to a single numpy.ndarray with numpy.array() before converting to a tensor. (Triggered internally at ../torch/csrc/utils/tensor_new.cpp:275.)\n",
            "  data = torch.tensor([self.data[idx]])\n",
            "100%|██████████| 1945/1945 [03:34<00:00,  9.05it/s]\n"
          ]
        },
        {
          "name": "stdout",
          "output_type": "stream",
          "text": [
            "Epoch 7/100\n",
            "training...\n"
          ]
        },
        {
          "name": "stderr",
          "output_type": "stream",
          "text": [
            "  0%|          | 0/1945 [00:00<?, ?it/s]<ipython-input-9-2d309f48c7e0>:8: UserWarning: Creating a tensor from a list of numpy.ndarrays is extremely slow. Please consider converting the list to a single numpy.ndarray with numpy.array() before converting to a tensor. (Triggered internally at ../torch/csrc/utils/tensor_new.cpp:275.)\n",
            "  data = torch.tensor([self.data[idx]])\n",
            "100%|██████████| 1945/1945 [03:33<00:00,  9.12it/s]\n"
          ]
        },
        {
          "name": "stdout",
          "output_type": "stream",
          "text": [
            "Epoch 8/100\n",
            "training...\n"
          ]
        },
        {
          "name": "stderr",
          "output_type": "stream",
          "text": [
            "  0%|          | 0/1945 [00:00<?, ?it/s]<ipython-input-9-2d309f48c7e0>:8: UserWarning: Creating a tensor from a list of numpy.ndarrays is extremely slow. Please consider converting the list to a single numpy.ndarray with numpy.array() before converting to a tensor. (Triggered internally at ../torch/csrc/utils/tensor_new.cpp:275.)\n",
            "  data = torch.tensor([self.data[idx]])\n",
            "100%|██████████| 1945/1945 [03:32<00:00,  9.14it/s]\n"
          ]
        },
        {
          "name": "stdout",
          "output_type": "stream",
          "text": [
            "Epoch 9/100\n",
            "training...\n"
          ]
        },
        {
          "name": "stderr",
          "output_type": "stream",
          "text": [
            "  0%|          | 0/1945 [00:00<?, ?it/s]<ipython-input-9-2d309f48c7e0>:8: UserWarning: Creating a tensor from a list of numpy.ndarrays is extremely slow. Please consider converting the list to a single numpy.ndarray with numpy.array() before converting to a tensor. (Triggered internally at ../torch/csrc/utils/tensor_new.cpp:275.)\n",
            "  data = torch.tensor([self.data[idx]])\n",
            "100%|██████████| 1945/1945 [03:35<00:00,  9.04it/s]\n"
          ]
        },
        {
          "name": "stdout",
          "output_type": "stream",
          "text": [
            "Epoch 10/100\n",
            "training...\n"
          ]
        },
        {
          "name": "stderr",
          "output_type": "stream",
          "text": [
            "  0%|          | 0/1945 [00:00<?, ?it/s]<ipython-input-9-2d309f48c7e0>:8: UserWarning: Creating a tensor from a list of numpy.ndarrays is extremely slow. Please consider converting the list to a single numpy.ndarray with numpy.array() before converting to a tensor. (Triggered internally at ../torch/csrc/utils/tensor_new.cpp:275.)\n",
            "  data = torch.tensor([self.data[idx]])\n",
            "100%|██████████| 1945/1945 [03:33<00:00,  9.10it/s]\n"
          ]
        },
        {
          "name": "stdout",
          "output_type": "stream",
          "text": [
            "Epoch 11/100\n",
            "training...\n"
          ]
        },
        {
          "name": "stderr",
          "output_type": "stream",
          "text": [
            "  0%|          | 0/1945 [00:00<?, ?it/s]<ipython-input-9-2d309f48c7e0>:8: UserWarning: Creating a tensor from a list of numpy.ndarrays is extremely slow. Please consider converting the list to a single numpy.ndarray with numpy.array() before converting to a tensor. (Triggered internally at ../torch/csrc/utils/tensor_new.cpp:275.)\n",
            "  data = torch.tensor([self.data[idx]])\n",
            "100%|██████████| 1945/1945 [03:36<00:00,  8.98it/s]\n"
          ]
        },
        {
          "name": "stdout",
          "output_type": "stream",
          "text": [
            "Epoch 12/100\n",
            "training...\n"
          ]
        },
        {
          "name": "stderr",
          "output_type": "stream",
          "text": [
            "  0%|          | 0/1945 [00:00<?, ?it/s]<ipython-input-9-2d309f48c7e0>:8: UserWarning: Creating a tensor from a list of numpy.ndarrays is extremely slow. Please consider converting the list to a single numpy.ndarray with numpy.array() before converting to a tensor. (Triggered internally at ../torch/csrc/utils/tensor_new.cpp:275.)\n",
            "  data = torch.tensor([self.data[idx]])\n",
            "100%|██████████| 1945/1945 [03:39<00:00,  8.86it/s]\n"
          ]
        },
        {
          "name": "stdout",
          "output_type": "stream",
          "text": [
            "Epoch 13/100\n",
            "training...\n"
          ]
        },
        {
          "name": "stderr",
          "output_type": "stream",
          "text": [
            "  0%|          | 0/1945 [00:00<?, ?it/s]<ipython-input-9-2d309f48c7e0>:8: UserWarning: Creating a tensor from a list of numpy.ndarrays is extremely slow. Please consider converting the list to a single numpy.ndarray with numpy.array() before converting to a tensor. (Triggered internally at ../torch/csrc/utils/tensor_new.cpp:275.)\n",
            "  data = torch.tensor([self.data[idx]])\n",
            "100%|██████████| 1945/1945 [03:38<00:00,  8.90it/s]\n"
          ]
        },
        {
          "name": "stdout",
          "output_type": "stream",
          "text": [
            "Epoch 14/100\n",
            "training...\n"
          ]
        },
        {
          "name": "stderr",
          "output_type": "stream",
          "text": [
            "  0%|          | 0/1945 [00:00<?, ?it/s]<ipython-input-9-2d309f48c7e0>:8: UserWarning: Creating a tensor from a list of numpy.ndarrays is extremely slow. Please consider converting the list to a single numpy.ndarray with numpy.array() before converting to a tensor. (Triggered internally at ../torch/csrc/utils/tensor_new.cpp:275.)\n",
            "  data = torch.tensor([self.data[idx]])\n",
            "100%|██████████| 1945/1945 [03:36<00:00,  8.97it/s]\n"
          ]
        },
        {
          "name": "stdout",
          "output_type": "stream",
          "text": [
            "Epoch 15/100\n",
            "training...\n"
          ]
        },
        {
          "name": "stderr",
          "output_type": "stream",
          "text": [
            "  0%|          | 0/1945 [00:00<?, ?it/s]<ipython-input-9-2d309f48c7e0>:8: UserWarning: Creating a tensor from a list of numpy.ndarrays is extremely slow. Please consider converting the list to a single numpy.ndarray with numpy.array() before converting to a tensor. (Triggered internally at ../torch/csrc/utils/tensor_new.cpp:275.)\n",
            "  data = torch.tensor([self.data[idx]])\n",
            "100%|██████████| 1945/1945 [03:38<00:00,  8.91it/s]\n"
          ]
        },
        {
          "name": "stdout",
          "output_type": "stream",
          "text": [
            "Epoch 16/100\n",
            "training...\n"
          ]
        },
        {
          "name": "stderr",
          "output_type": "stream",
          "text": [
            "  0%|          | 0/1945 [00:00<?, ?it/s]<ipython-input-9-2d309f48c7e0>:8: UserWarning: Creating a tensor from a list of numpy.ndarrays is extremely slow. Please consider converting the list to a single numpy.ndarray with numpy.array() before converting to a tensor. (Triggered internally at ../torch/csrc/utils/tensor_new.cpp:275.)\n",
            "  data = torch.tensor([self.data[idx]])\n",
            "100%|██████████| 1945/1945 [03:38<00:00,  8.90it/s]\n"
          ]
        },
        {
          "name": "stdout",
          "output_type": "stream",
          "text": [
            "Epoch 17/100\n",
            "training...\n"
          ]
        },
        {
          "name": "stderr",
          "output_type": "stream",
          "text": [
            "  0%|          | 0/1945 [00:00<?, ?it/s]<ipython-input-9-2d309f48c7e0>:8: UserWarning: Creating a tensor from a list of numpy.ndarrays is extremely slow. Please consider converting the list to a single numpy.ndarray with numpy.array() before converting to a tensor. (Triggered internally at ../torch/csrc/utils/tensor_new.cpp:275.)\n",
            "  data = torch.tensor([self.data[idx]])\n",
            "100%|██████████| 1945/1945 [03:35<00:00,  9.02it/s]\n"
          ]
        },
        {
          "name": "stdout",
          "output_type": "stream",
          "text": [
            "Epoch 18/100\n",
            "training...\n"
          ]
        },
        {
          "name": "stderr",
          "output_type": "stream",
          "text": [
            "  0%|          | 0/1945 [00:00<?, ?it/s]<ipython-input-9-2d309f48c7e0>:8: UserWarning: Creating a tensor from a list of numpy.ndarrays is extremely slow. Please consider converting the list to a single numpy.ndarray with numpy.array() before converting to a tensor. (Triggered internally at ../torch/csrc/utils/tensor_new.cpp:275.)\n",
            "  data = torch.tensor([self.data[idx]])\n",
            "100%|██████████| 1945/1945 [03:38<00:00,  8.91it/s]\n"
          ]
        },
        {
          "name": "stdout",
          "output_type": "stream",
          "text": [
            "Epoch 19/100\n",
            "training...\n"
          ]
        },
        {
          "name": "stderr",
          "output_type": "stream",
          "text": [
            "  0%|          | 0/1945 [00:00<?, ?it/s]<ipython-input-9-2d309f48c7e0>:8: UserWarning: Creating a tensor from a list of numpy.ndarrays is extremely slow. Please consider converting the list to a single numpy.ndarray with numpy.array() before converting to a tensor. (Triggered internally at ../torch/csrc/utils/tensor_new.cpp:275.)\n",
            "  data = torch.tensor([self.data[idx]])\n",
            "100%|██████████| 1945/1945 [03:37<00:00,  8.96it/s]\n"
          ]
        },
        {
          "name": "stdout",
          "output_type": "stream",
          "text": [
            "Epoch 20/100\n",
            "training...\n"
          ]
        },
        {
          "name": "stderr",
          "output_type": "stream",
          "text": [
            "  0%|          | 0/1945 [00:00<?, ?it/s]<ipython-input-9-2d309f48c7e0>:8: UserWarning: Creating a tensor from a list of numpy.ndarrays is extremely slow. Please consider converting the list to a single numpy.ndarray with numpy.array() before converting to a tensor. (Triggered internally at ../torch/csrc/utils/tensor_new.cpp:275.)\n",
            "  data = torch.tensor([self.data[idx]])\n",
            "100%|██████████| 1945/1945 [03:38<00:00,  8.91it/s]\n"
          ]
        },
        {
          "name": "stdout",
          "output_type": "stream",
          "text": [
            "Epoch 21/100\n",
            "training...\n"
          ]
        },
        {
          "name": "stderr",
          "output_type": "stream",
          "text": [
            "  0%|          | 0/1945 [00:00<?, ?it/s]<ipython-input-9-2d309f48c7e0>:8: UserWarning: Creating a tensor from a list of numpy.ndarrays is extremely slow. Please consider converting the list to a single numpy.ndarray with numpy.array() before converting to a tensor. (Triggered internally at ../torch/csrc/utils/tensor_new.cpp:275.)\n",
            "  data = torch.tensor([self.data[idx]])\n",
            "100%|██████████| 1945/1945 [03:41<00:00,  8.78it/s]\n"
          ]
        },
        {
          "name": "stdout",
          "output_type": "stream",
          "text": [
            "Epoch 22/100\n",
            "training...\n"
          ]
        },
        {
          "name": "stderr",
          "output_type": "stream",
          "text": [
            "  0%|          | 0/1945 [00:00<?, ?it/s]<ipython-input-9-2d309f48c7e0>:8: UserWarning: Creating a tensor from a list of numpy.ndarrays is extremely slow. Please consider converting the list to a single numpy.ndarray with numpy.array() before converting to a tensor. (Triggered internally at ../torch/csrc/utils/tensor_new.cpp:275.)\n",
            "  data = torch.tensor([self.data[idx]])\n",
            "100%|██████████| 1945/1945 [03:52<00:00,  8.36it/s]\n"
          ]
        },
        {
          "name": "stdout",
          "output_type": "stream",
          "text": [
            "Epoch 23/100\n",
            "training...\n"
          ]
        },
        {
          "name": "stderr",
          "output_type": "stream",
          "text": [
            "  0%|          | 0/1945 [00:00<?, ?it/s]<ipython-input-9-2d309f48c7e0>:8: UserWarning: Creating a tensor from a list of numpy.ndarrays is extremely slow. Please consider converting the list to a single numpy.ndarray with numpy.array() before converting to a tensor. (Triggered internally at ../torch/csrc/utils/tensor_new.cpp:275.)\n",
            "  data = torch.tensor([self.data[idx]])\n",
            "100%|██████████| 1945/1945 [03:51<00:00,  8.39it/s]\n"
          ]
        },
        {
          "name": "stdout",
          "output_type": "stream",
          "text": [
            "Epoch 24/100\n",
            "training...\n"
          ]
        },
        {
          "name": "stderr",
          "output_type": "stream",
          "text": [
            "  0%|          | 0/1945 [00:00<?, ?it/s]<ipython-input-9-2d309f48c7e0>:8: UserWarning: Creating a tensor from a list of numpy.ndarrays is extremely slow. Please consider converting the list to a single numpy.ndarray with numpy.array() before converting to a tensor. (Triggered internally at ../torch/csrc/utils/tensor_new.cpp:275.)\n",
            "  data = torch.tensor([self.data[idx]])\n",
            "100%|██████████| 1945/1945 [03:45<00:00,  8.61it/s]\n"
          ]
        },
        {
          "name": "stdout",
          "output_type": "stream",
          "text": [
            "Epoch 25/100\n",
            "training...\n"
          ]
        },
        {
          "name": "stderr",
          "output_type": "stream",
          "text": [
            "  0%|          | 0/1945 [00:00<?, ?it/s]<ipython-input-9-2d309f48c7e0>:8: UserWarning: Creating a tensor from a list of numpy.ndarrays is extremely slow. Please consider converting the list to a single numpy.ndarray with numpy.array() before converting to a tensor. (Triggered internally at ../torch/csrc/utils/tensor_new.cpp:275.)\n",
            "  data = torch.tensor([self.data[idx]])\n",
            "100%|██████████| 1945/1945 [03:46<00:00,  8.60it/s]\n"
          ]
        },
        {
          "name": "stdout",
          "output_type": "stream",
          "text": [
            "Epoch 26/100\n",
            "training...\n"
          ]
        },
        {
          "name": "stderr",
          "output_type": "stream",
          "text": [
            "  0%|          | 0/1945 [00:00<?, ?it/s]<ipython-input-9-2d309f48c7e0>:8: UserWarning: Creating a tensor from a list of numpy.ndarrays is extremely slow. Please consider converting the list to a single numpy.ndarray with numpy.array() before converting to a tensor. (Triggered internally at ../torch/csrc/utils/tensor_new.cpp:275.)\n",
            "  data = torch.tensor([self.data[idx]])\n",
            "100%|██████████| 1945/1945 [03:56<00:00,  8.24it/s]\n"
          ]
        },
        {
          "name": "stdout",
          "output_type": "stream",
          "text": [
            "Epoch 27/100\n",
            "training...\n"
          ]
        },
        {
          "name": "stderr",
          "output_type": "stream",
          "text": [
            "  0%|          | 0/1945 [00:00<?, ?it/s]<ipython-input-9-2d309f48c7e0>:8: UserWarning: Creating a tensor from a list of numpy.ndarrays is extremely slow. Please consider converting the list to a single numpy.ndarray with numpy.array() before converting to a tensor. (Triggered internally at ../torch/csrc/utils/tensor_new.cpp:275.)\n",
            "  data = torch.tensor([self.data[idx]])\n",
            "100%|██████████| 1945/1945 [03:44<00:00,  8.65it/s]\n"
          ]
        },
        {
          "name": "stdout",
          "output_type": "stream",
          "text": [
            "Epoch 28/100\n",
            "training...\n"
          ]
        },
        {
          "name": "stderr",
          "output_type": "stream",
          "text": [
            "  0%|          | 0/1945 [00:00<?, ?it/s]<ipython-input-9-2d309f48c7e0>:8: UserWarning: Creating a tensor from a list of numpy.ndarrays is extremely slow. Please consider converting the list to a single numpy.ndarray with numpy.array() before converting to a tensor. (Triggered internally at ../torch/csrc/utils/tensor_new.cpp:275.)\n",
            "  data = torch.tensor([self.data[idx]])\n",
            "100%|██████████| 1945/1945 [03:42<00:00,  8.74it/s]\n"
          ]
        },
        {
          "name": "stdout",
          "output_type": "stream",
          "text": [
            "Epoch 29/100\n",
            "training...\n"
          ]
        },
        {
          "name": "stderr",
          "output_type": "stream",
          "text": [
            "  0%|          | 0/1945 [00:00<?, ?it/s]<ipython-input-9-2d309f48c7e0>:8: UserWarning: Creating a tensor from a list of numpy.ndarrays is extremely slow. Please consider converting the list to a single numpy.ndarray with numpy.array() before converting to a tensor. (Triggered internally at ../torch/csrc/utils/tensor_new.cpp:275.)\n",
            "  data = torch.tensor([self.data[idx]])\n",
            "100%|██████████| 1945/1945 [03:50<00:00,  8.43it/s]\n"
          ]
        },
        {
          "name": "stdout",
          "output_type": "stream",
          "text": [
            "Epoch 30/100\n",
            "training...\n"
          ]
        },
        {
          "name": "stderr",
          "output_type": "stream",
          "text": [
            "  0%|          | 0/1945 [00:00<?, ?it/s]<ipython-input-9-2d309f48c7e0>:8: UserWarning: Creating a tensor from a list of numpy.ndarrays is extremely slow. Please consider converting the list to a single numpy.ndarray with numpy.array() before converting to a tensor. (Triggered internally at ../torch/csrc/utils/tensor_new.cpp:275.)\n",
            "  data = torch.tensor([self.data[idx]])\n",
            "100%|██████████| 1945/1945 [04:06<00:00,  7.90it/s]\n"
          ]
        },
        {
          "name": "stdout",
          "output_type": "stream",
          "text": [
            "Epoch 31/100\n",
            "training...\n"
          ]
        },
        {
          "name": "stderr",
          "output_type": "stream",
          "text": [
            "  0%|          | 0/1945 [00:00<?, ?it/s]<ipython-input-9-2d309f48c7e0>:8: UserWarning: Creating a tensor from a list of numpy.ndarrays is extremely slow. Please consider converting the list to a single numpy.ndarray with numpy.array() before converting to a tensor. (Triggered internally at ../torch/csrc/utils/tensor_new.cpp:275.)\n",
            "  data = torch.tensor([self.data[idx]])\n",
            "100%|██████████| 1945/1945 [04:02<00:00,  8.01it/s]\n"
          ]
        },
        {
          "name": "stdout",
          "output_type": "stream",
          "text": [
            "Epoch 32/100\n",
            "training...\n"
          ]
        },
        {
          "name": "stderr",
          "output_type": "stream",
          "text": [
            "  0%|          | 0/1945 [00:00<?, ?it/s]<ipython-input-9-2d309f48c7e0>:8: UserWarning: Creating a tensor from a list of numpy.ndarrays is extremely slow. Please consider converting the list to a single numpy.ndarray with numpy.array() before converting to a tensor. (Triggered internally at ../torch/csrc/utils/tensor_new.cpp:275.)\n",
            "  data = torch.tensor([self.data[idx]])\n",
            "100%|██████████| 1945/1945 [04:10<00:00,  7.77it/s]\n"
          ]
        },
        {
          "name": "stdout",
          "output_type": "stream",
          "text": [
            "Epoch 33/100\n",
            "training...\n"
          ]
        },
        {
          "name": "stderr",
          "output_type": "stream",
          "text": [
            "  0%|          | 0/1945 [00:00<?, ?it/s]<ipython-input-9-2d309f48c7e0>:8: UserWarning: Creating a tensor from a list of numpy.ndarrays is extremely slow. Please consider converting the list to a single numpy.ndarray with numpy.array() before converting to a tensor. (Triggered internally at ../torch/csrc/utils/tensor_new.cpp:275.)\n",
            "  data = torch.tensor([self.data[idx]])\n",
            "100%|██████████| 1945/1945 [04:08<00:00,  7.83it/s]\n"
          ]
        },
        {
          "name": "stdout",
          "output_type": "stream",
          "text": [
            "Epoch 34/100\n",
            "training...\n"
          ]
        },
        {
          "name": "stderr",
          "output_type": "stream",
          "text": [
            "  0%|          | 0/1945 [00:00<?, ?it/s]<ipython-input-9-2d309f48c7e0>:8: UserWarning: Creating a tensor from a list of numpy.ndarrays is extremely slow. Please consider converting the list to a single numpy.ndarray with numpy.array() before converting to a tensor. (Triggered internally at ../torch/csrc/utils/tensor_new.cpp:275.)\n",
            "  data = torch.tensor([self.data[idx]])\n",
            "100%|██████████| 1945/1945 [04:12<00:00,  7.69it/s]\n"
          ]
        },
        {
          "name": "stdout",
          "output_type": "stream",
          "text": [
            "Epoch 35/100\n",
            "training...\n"
          ]
        },
        {
          "name": "stderr",
          "output_type": "stream",
          "text": [
            "  0%|          | 0/1945 [00:00<?, ?it/s]<ipython-input-9-2d309f48c7e0>:8: UserWarning: Creating a tensor from a list of numpy.ndarrays is extremely slow. Please consider converting the list to a single numpy.ndarray with numpy.array() before converting to a tensor. (Triggered internally at ../torch/csrc/utils/tensor_new.cpp:275.)\n",
            "  data = torch.tensor([self.data[idx]])\n",
            "100%|██████████| 1945/1945 [04:08<00:00,  7.83it/s]\n"
          ]
        },
        {
          "name": "stdout",
          "output_type": "stream",
          "text": [
            "Epoch 36/100\n",
            "training...\n"
          ]
        },
        {
          "name": "stderr",
          "output_type": "stream",
          "text": [
            "  0%|          | 0/1945 [00:00<?, ?it/s]<ipython-input-9-2d309f48c7e0>:8: UserWarning: Creating a tensor from a list of numpy.ndarrays is extremely slow. Please consider converting the list to a single numpy.ndarray with numpy.array() before converting to a tensor. (Triggered internally at ../torch/csrc/utils/tensor_new.cpp:275.)\n",
            "  data = torch.tensor([self.data[idx]])\n",
            "100%|██████████| 1945/1945 [04:13<00:00,  7.67it/s]\n"
          ]
        },
        {
          "name": "stdout",
          "output_type": "stream",
          "text": [
            "Epoch 37/100\n",
            "training...\n"
          ]
        },
        {
          "name": "stderr",
          "output_type": "stream",
          "text": [
            "  0%|          | 0/1945 [00:00<?, ?it/s]<ipython-input-9-2d309f48c7e0>:8: UserWarning: Creating a tensor from a list of numpy.ndarrays is extremely slow. Please consider converting the list to a single numpy.ndarray with numpy.array() before converting to a tensor. (Triggered internally at ../torch/csrc/utils/tensor_new.cpp:275.)\n",
            "  data = torch.tensor([self.data[idx]])\n",
            "100%|██████████| 1945/1945 [04:15<00:00,  7.61it/s]\n"
          ]
        },
        {
          "name": "stdout",
          "output_type": "stream",
          "text": [
            "Epoch 38/100\n",
            "training...\n"
          ]
        },
        {
          "name": "stderr",
          "output_type": "stream",
          "text": [
            "  0%|          | 0/1945 [00:00<?, ?it/s]<ipython-input-9-2d309f48c7e0>:8: UserWarning: Creating a tensor from a list of numpy.ndarrays is extremely slow. Please consider converting the list to a single numpy.ndarray with numpy.array() before converting to a tensor. (Triggered internally at ../torch/csrc/utils/tensor_new.cpp:275.)\n",
            "  data = torch.tensor([self.data[idx]])\n",
            "100%|██████████| 1945/1945 [04:13<00:00,  7.67it/s]\n"
          ]
        },
        {
          "name": "stdout",
          "output_type": "stream",
          "text": [
            "Epoch 39/100\n",
            "training...\n"
          ]
        },
        {
          "name": "stderr",
          "output_type": "stream",
          "text": [
            "  0%|          | 0/1945 [00:00<?, ?it/s]<ipython-input-9-2d309f48c7e0>:8: UserWarning: Creating a tensor from a list of numpy.ndarrays is extremely slow. Please consider converting the list to a single numpy.ndarray with numpy.array() before converting to a tensor. (Triggered internally at ../torch/csrc/utils/tensor_new.cpp:275.)\n",
            "  data = torch.tensor([self.data[idx]])\n",
            "100%|██████████| 1945/1945 [04:12<00:00,  7.71it/s]\n"
          ]
        },
        {
          "name": "stdout",
          "output_type": "stream",
          "text": [
            "Epoch 40/100\n",
            "training...\n"
          ]
        },
        {
          "name": "stderr",
          "output_type": "stream",
          "text": [
            "  0%|          | 0/1945 [00:00<?, ?it/s]<ipython-input-9-2d309f48c7e0>:8: UserWarning: Creating a tensor from a list of numpy.ndarrays is extremely slow. Please consider converting the list to a single numpy.ndarray with numpy.array() before converting to a tensor. (Triggered internally at ../torch/csrc/utils/tensor_new.cpp:275.)\n",
            "  data = torch.tensor([self.data[idx]])\n",
            " 37%|███▋      | 728/1945 [01:35<02:10,  9.33it/s]"
          ]
        }
      ],
      "source": [
        "trainerSetup = ConvNet1D_training(model, optimizer)\n",
        "trainerSetup.train(criterion, 100, 10, train, True)"
      ]
    }
  ],
  "metadata": {
    "colab": {
      "provenance": []
    },
    "kernelspec": {
      "display_name": "Python 3",
      "name": "python3"
    },
    "language_info": {
      "name": "python"
    }
  },
  "nbformat": 4,
  "nbformat_minor": 0
}