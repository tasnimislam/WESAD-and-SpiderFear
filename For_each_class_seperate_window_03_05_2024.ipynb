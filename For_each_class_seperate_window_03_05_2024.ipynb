{
  "nbformat": 4,
  "nbformat_minor": 0,
  "metadata": {
    "colab": {
      "provenance": []
    },
    "kernelspec": {
      "name": "python3",
      "display_name": "Python 3"
    },
    "language_info": {
      "name": "python"
    }
  },
  "cells": [
    {
      "cell_type": "code",
      "execution_count": null,
      "metadata": {
        "id": "Yf1zGc7VdPPO"
      },
      "outputs": [],
      "source": [
        "import pickle\n",
        "import numpy as np\n",
        "import pandas as pd\n",
        "from sklearn.model_selection import train_test_split\n",
        "from sklearn.discriminant_analysis import LinearDiscriminantAnalysis\n",
        "from sklearn.metrics import classification_report\n",
        "from sklearn import tree\n",
        "from sklearn.metrics import accuracy_score\n",
        "from sklearn.metrics import f1_score\n",
        "from tqdm import tqdm\n",
        "import matplotlib.pyplot as plt\n",
        "import pickle\n",
        "import os"
      ]
    },
    {
      "cell_type": "code",
      "source": [
        "PATH =  \"/content/drive/MyDrive/PhD research/Stress Detection/Stress Detection/WESAD/WESAD\"\n",
        "SUBJECT_NO=17"
      ],
      "metadata": {
        "id": "iN5iYuUldwaE"
      },
      "execution_count": null,
      "outputs": []
    },
    {
      "cell_type": "code",
      "source": [
        "def getData(subjectNo):\n",
        "  #data_set = r\"C:\\Users\\A\\Desktop\\neural networks\\WESAD-data\\S2\"\n",
        "  pklPath = PATH + f'/S{subjectNo}/S{subjectNo}.pkl'\n",
        "\n",
        "  with open(pklPath, 'rb') as f:\n",
        "    s2_data = pickle.load(f, encoding='latin1')\n",
        "\n",
        "  c_ax=s2_data['signal']['chest']['ACC'][0:,0]#[baseline_to_plot]\n",
        "  c_ay=s2_data['signal']['chest']['ACC'][0:,1]#[baseline_to_plot]#[0:100] # hundred values\n",
        "  c_az=s2_data['signal']['chest']['ACC'][0:,2]#[baseline_to_plot]\n",
        "  c_ecg=s2_data['signal']['chest']['ECG'][:,0]#[baseline_to_plot]\n",
        "  c_emg=s2_data['signal']['chest']['EMG'][:,0]#[baseline_to_plot]\n",
        "  c_eda=s2_data['signal']['chest']['EDA'][:,0]#[baseline_to_plot]\n",
        "  c_temp=s2_data['signal']['chest']['Temp'][:,0]#[baseline_to_plot]\n",
        "  c_resp=s2_data['signal']['chest']['Resp'][:,0]#[baseline_to_plot]\n",
        "  w_ax=s2_data['signal']['wrist']['ACC'][0:,0]#[stress_to_plot]\n",
        "  w_ay=s2_data['signal']['wrist']['ACC'][0:,1]#[stress_to_plot]\n",
        "  w_az=s2_data['signal']['wrist']['ACC'][0:,2]#[stress_to_plot]\n",
        "  w_bvp=s2_data['signal']['wrist']['BVP'][:,0]#[stress_to_plot]\n",
        "  w_eda=s2_data['signal']['wrist']['EDA'][:,0]#[stress_to_plot]\n",
        "  w_temp=s2_data['signal']['wrist']['TEMP'][:,0]#[stress_to_plot]\n",
        "  w_label=s2_data['label']\n",
        "\n",
        "  numpy_data1=np.array([c_ax, c_ay, c_az,c_ecg,c_emg,c_eda,c_temp,c_resp,w_label])\n",
        "  numpy_data1=numpy_data1.T\n",
        "\n",
        "  df = pd.DataFrame(data=numpy_data1, columns=[\"c_ax\", \"c_ay\", \"c_az\",\"c_ecg\",\"c_emg\",\"c_eda\",\"c_temp\",\"c_resp\",\"w_label\"])\n",
        "\n",
        "  return df"
      ],
      "metadata": {
        "id": "y9fy7bvAdo64"
      },
      "execution_count": null,
      "outputs": []
    },
    {
      "cell_type": "code",
      "source": [
        "df = getData(SUBJECT_NO)\n",
        "print(df.head())\n",
        "print(df['w_label'].isnull().values.any())"
      ],
      "metadata": {
        "colab": {
          "base_uri": "https://localhost:8080/"
        },
        "id": "g2lu9t_nen8a",
        "outputId": "2a67af33-770d-45fe-9658-0a307bd89807"
      },
      "execution_count": null,
      "outputs": [
        {
          "output_type": "stream",
          "name": "stdout",
          "text": [
            "     c_ax    c_ay    c_az     c_ecg     c_emg     c_eda     c_temp    c_resp  \\\n",
            "0  0.7002 -0.1982 -1.0702  1.431793  0.007095  5.400467  32.415283  3.221130   \n",
            "1  0.7294 -0.1902 -1.0470  1.461960 -0.012405  5.408859  32.434631  3.607178   \n",
            "2  0.7646 -0.1840 -1.0046  1.471619 -0.018082  5.401611  32.445099  3.608704   \n",
            "3  0.8014 -0.1778 -0.9782  1.472763 -0.027557  5.407715  32.439087  3.643799   \n",
            "4  0.8348 -0.1608 -0.8950  1.469421 -0.026779  5.410385  32.439087  3.575134   \n",
            "\n",
            "   w_label  \n",
            "0      0.0  \n",
            "1      0.0  \n",
            "2      0.0  \n",
            "3      0.0  \n",
            "4      0.0  \n",
            "False\n"
          ]
        }
      ]
    },
    {
      "cell_type": "code",
      "source": [
        "len(df)"
      ],
      "metadata": {
        "colab": {
          "base_uri": "https://localhost:8080/"
        },
        "id": "1qw1RSIhgnHa",
        "outputId": "16fc731d-ecf1-4732-b632-544abbd4afec"
      },
      "execution_count": null,
      "outputs": [
        {
          "output_type": "execute_result",
          "data": {
            "text/plain": [
              "4144000"
            ]
          },
          "metadata": {},
          "execution_count": 20
        }
      ]
    },
    {
      "cell_type": "code",
      "source": [
        "index = 0\n",
        "df[index:index+int(60*700)]"
      ],
      "metadata": {
        "colab": {
          "base_uri": "https://localhost:8080/",
          "height": 423
        },
        "id": "0EPq0h3rjGKV",
        "outputId": "5ce572da-4eb3-43f0-8f29-757fe13173a1"
      },
      "execution_count": null,
      "outputs": [
        {
          "output_type": "execute_result",
          "data": {
            "text/plain": [
              "         c_ax    c_ay    c_az     c_ecg     c_emg     c_eda     c_temp  \\\n",
              "0      0.7002 -0.1982 -1.0702  1.431793  0.007095  5.400467  32.415283   \n",
              "1      0.7294 -0.1902 -1.0470  1.461960 -0.012405  5.408859  32.434631   \n",
              "2      0.7646 -0.1840 -1.0046  1.471619 -0.018082  5.401611  32.445099   \n",
              "3      0.8014 -0.1778 -0.9782  1.472763 -0.027557  5.407715  32.439087   \n",
              "4      0.8348 -0.1608 -0.8950  1.469421 -0.026779  5.410385  32.439087   \n",
              "...       ...     ...     ...       ...       ...       ...        ...   \n",
              "41995  0.8536  0.0434 -0.0838 -0.098923 -0.036072  5.590439  32.354156   \n",
              "41996  0.8522  0.0454 -0.0850 -0.255020 -0.010574  5.590439  32.355652   \n",
              "41997  0.8536  0.0456 -0.0900 -0.356461 -0.015884  5.590439  32.363068   \n",
              "41998  0.8536  0.0478 -0.0926 -0.412262  0.024765  5.591965  32.360138   \n",
              "41999  0.8562  0.0456 -0.0898 -0.431534 -0.008652  5.592728  32.346710   \n",
              "\n",
              "         c_resp  w_label  \n",
              "0      3.221130      0.0  \n",
              "1      3.607178      0.0  \n",
              "2      3.608704      0.0  \n",
              "3      3.643799      0.0  \n",
              "4      3.575134      0.0  \n",
              "...         ...      ...  \n",
              "41995 -1.023865      0.0  \n",
              "41996 -1.023865      0.0  \n",
              "41997 -1.026917      0.0  \n",
              "41998 -1.022339      0.0  \n",
              "41999 -0.994873      0.0  \n",
              "\n",
              "[42000 rows x 9 columns]"
            ],
            "text/html": [
              "\n",
              "  <div id=\"df-8e74a1c1-1af2-40b8-96bd-3b93048b395c\" class=\"colab-df-container\">\n",
              "    <div>\n",
              "<style scoped>\n",
              "    .dataframe tbody tr th:only-of-type {\n",
              "        vertical-align: middle;\n",
              "    }\n",
              "\n",
              "    .dataframe tbody tr th {\n",
              "        vertical-align: top;\n",
              "    }\n",
              "\n",
              "    .dataframe thead th {\n",
              "        text-align: right;\n",
              "    }\n",
              "</style>\n",
              "<table border=\"1\" class=\"dataframe\">\n",
              "  <thead>\n",
              "    <tr style=\"text-align: right;\">\n",
              "      <th></th>\n",
              "      <th>c_ax</th>\n",
              "      <th>c_ay</th>\n",
              "      <th>c_az</th>\n",
              "      <th>c_ecg</th>\n",
              "      <th>c_emg</th>\n",
              "      <th>c_eda</th>\n",
              "      <th>c_temp</th>\n",
              "      <th>c_resp</th>\n",
              "      <th>w_label</th>\n",
              "    </tr>\n",
              "  </thead>\n",
              "  <tbody>\n",
              "    <tr>\n",
              "      <th>0</th>\n",
              "      <td>0.7002</td>\n",
              "      <td>-0.1982</td>\n",
              "      <td>-1.0702</td>\n",
              "      <td>1.431793</td>\n",
              "      <td>0.007095</td>\n",
              "      <td>5.400467</td>\n",
              "      <td>32.415283</td>\n",
              "      <td>3.221130</td>\n",
              "      <td>0.0</td>\n",
              "    </tr>\n",
              "    <tr>\n",
              "      <th>1</th>\n",
              "      <td>0.7294</td>\n",
              "      <td>-0.1902</td>\n",
              "      <td>-1.0470</td>\n",
              "      <td>1.461960</td>\n",
              "      <td>-0.012405</td>\n",
              "      <td>5.408859</td>\n",
              "      <td>32.434631</td>\n",
              "      <td>3.607178</td>\n",
              "      <td>0.0</td>\n",
              "    </tr>\n",
              "    <tr>\n",
              "      <th>2</th>\n",
              "      <td>0.7646</td>\n",
              "      <td>-0.1840</td>\n",
              "      <td>-1.0046</td>\n",
              "      <td>1.471619</td>\n",
              "      <td>-0.018082</td>\n",
              "      <td>5.401611</td>\n",
              "      <td>32.445099</td>\n",
              "      <td>3.608704</td>\n",
              "      <td>0.0</td>\n",
              "    </tr>\n",
              "    <tr>\n",
              "      <th>3</th>\n",
              "      <td>0.8014</td>\n",
              "      <td>-0.1778</td>\n",
              "      <td>-0.9782</td>\n",
              "      <td>1.472763</td>\n",
              "      <td>-0.027557</td>\n",
              "      <td>5.407715</td>\n",
              "      <td>32.439087</td>\n",
              "      <td>3.643799</td>\n",
              "      <td>0.0</td>\n",
              "    </tr>\n",
              "    <tr>\n",
              "      <th>4</th>\n",
              "      <td>0.8348</td>\n",
              "      <td>-0.1608</td>\n",
              "      <td>-0.8950</td>\n",
              "      <td>1.469421</td>\n",
              "      <td>-0.026779</td>\n",
              "      <td>5.410385</td>\n",
              "      <td>32.439087</td>\n",
              "      <td>3.575134</td>\n",
              "      <td>0.0</td>\n",
              "    </tr>\n",
              "    <tr>\n",
              "      <th>...</th>\n",
              "      <td>...</td>\n",
              "      <td>...</td>\n",
              "      <td>...</td>\n",
              "      <td>...</td>\n",
              "      <td>...</td>\n",
              "      <td>...</td>\n",
              "      <td>...</td>\n",
              "      <td>...</td>\n",
              "      <td>...</td>\n",
              "    </tr>\n",
              "    <tr>\n",
              "      <th>41995</th>\n",
              "      <td>0.8536</td>\n",
              "      <td>0.0434</td>\n",
              "      <td>-0.0838</td>\n",
              "      <td>-0.098923</td>\n",
              "      <td>-0.036072</td>\n",
              "      <td>5.590439</td>\n",
              "      <td>32.354156</td>\n",
              "      <td>-1.023865</td>\n",
              "      <td>0.0</td>\n",
              "    </tr>\n",
              "    <tr>\n",
              "      <th>41996</th>\n",
              "      <td>0.8522</td>\n",
              "      <td>0.0454</td>\n",
              "      <td>-0.0850</td>\n",
              "      <td>-0.255020</td>\n",
              "      <td>-0.010574</td>\n",
              "      <td>5.590439</td>\n",
              "      <td>32.355652</td>\n",
              "      <td>-1.023865</td>\n",
              "      <td>0.0</td>\n",
              "    </tr>\n",
              "    <tr>\n",
              "      <th>41997</th>\n",
              "      <td>0.8536</td>\n",
              "      <td>0.0456</td>\n",
              "      <td>-0.0900</td>\n",
              "      <td>-0.356461</td>\n",
              "      <td>-0.015884</td>\n",
              "      <td>5.590439</td>\n",
              "      <td>32.363068</td>\n",
              "      <td>-1.026917</td>\n",
              "      <td>0.0</td>\n",
              "    </tr>\n",
              "    <tr>\n",
              "      <th>41998</th>\n",
              "      <td>0.8536</td>\n",
              "      <td>0.0478</td>\n",
              "      <td>-0.0926</td>\n",
              "      <td>-0.412262</td>\n",
              "      <td>0.024765</td>\n",
              "      <td>5.591965</td>\n",
              "      <td>32.360138</td>\n",
              "      <td>-1.022339</td>\n",
              "      <td>0.0</td>\n",
              "    </tr>\n",
              "    <tr>\n",
              "      <th>41999</th>\n",
              "      <td>0.8562</td>\n",
              "      <td>0.0456</td>\n",
              "      <td>-0.0898</td>\n",
              "      <td>-0.431534</td>\n",
              "      <td>-0.008652</td>\n",
              "      <td>5.592728</td>\n",
              "      <td>32.346710</td>\n",
              "      <td>-0.994873</td>\n",
              "      <td>0.0</td>\n",
              "    </tr>\n",
              "  </tbody>\n",
              "</table>\n",
              "<p>42000 rows × 9 columns</p>\n",
              "</div>\n",
              "    <div class=\"colab-df-buttons\">\n",
              "\n",
              "  <div class=\"colab-df-container\">\n",
              "    <button class=\"colab-df-convert\" onclick=\"convertToInteractive('df-8e74a1c1-1af2-40b8-96bd-3b93048b395c')\"\n",
              "            title=\"Convert this dataframe to an interactive table.\"\n",
              "            style=\"display:none;\">\n",
              "\n",
              "  <svg xmlns=\"http://www.w3.org/2000/svg\" height=\"24px\" viewBox=\"0 -960 960 960\">\n",
              "    <path d=\"M120-120v-720h720v720H120Zm60-500h600v-160H180v160Zm220 220h160v-160H400v160Zm0 220h160v-160H400v160ZM180-400h160v-160H180v160Zm440 0h160v-160H620v160ZM180-180h160v-160H180v160Zm440 0h160v-160H620v160Z\"/>\n",
              "  </svg>\n",
              "    </button>\n",
              "\n",
              "  <style>\n",
              "    .colab-df-container {\n",
              "      display:flex;\n",
              "      gap: 12px;\n",
              "    }\n",
              "\n",
              "    .colab-df-convert {\n",
              "      background-color: #E8F0FE;\n",
              "      border: none;\n",
              "      border-radius: 50%;\n",
              "      cursor: pointer;\n",
              "      display: none;\n",
              "      fill: #1967D2;\n",
              "      height: 32px;\n",
              "      padding: 0 0 0 0;\n",
              "      width: 32px;\n",
              "    }\n",
              "\n",
              "    .colab-df-convert:hover {\n",
              "      background-color: #E2EBFA;\n",
              "      box-shadow: 0px 1px 2px rgba(60, 64, 67, 0.3), 0px 1px 3px 1px rgba(60, 64, 67, 0.15);\n",
              "      fill: #174EA6;\n",
              "    }\n",
              "\n",
              "    .colab-df-buttons div {\n",
              "      margin-bottom: 4px;\n",
              "    }\n",
              "\n",
              "    [theme=dark] .colab-df-convert {\n",
              "      background-color: #3B4455;\n",
              "      fill: #D2E3FC;\n",
              "    }\n",
              "\n",
              "    [theme=dark] .colab-df-convert:hover {\n",
              "      background-color: #434B5C;\n",
              "      box-shadow: 0px 1px 3px 1px rgba(0, 0, 0, 0.15);\n",
              "      filter: drop-shadow(0px 1px 2px rgba(0, 0, 0, 0.3));\n",
              "      fill: #FFFFFF;\n",
              "    }\n",
              "  </style>\n",
              "\n",
              "    <script>\n",
              "      const buttonEl =\n",
              "        document.querySelector('#df-8e74a1c1-1af2-40b8-96bd-3b93048b395c button.colab-df-convert');\n",
              "      buttonEl.style.display =\n",
              "        google.colab.kernel.accessAllowed ? 'block' : 'none';\n",
              "\n",
              "      async function convertToInteractive(key) {\n",
              "        const element = document.querySelector('#df-8e74a1c1-1af2-40b8-96bd-3b93048b395c');\n",
              "        const dataTable =\n",
              "          await google.colab.kernel.invokeFunction('convertToInteractive',\n",
              "                                                    [key], {});\n",
              "        if (!dataTable) return;\n",
              "\n",
              "        const docLinkHtml = 'Like what you see? Visit the ' +\n",
              "          '<a target=\"_blank\" href=https://colab.research.google.com/notebooks/data_table.ipynb>data table notebook</a>'\n",
              "          + ' to learn more about interactive tables.';\n",
              "        element.innerHTML = '';\n",
              "        dataTable['output_type'] = 'display_data';\n",
              "        await google.colab.output.renderOutput(dataTable, element);\n",
              "        const docLink = document.createElement('div');\n",
              "        docLink.innerHTML = docLinkHtml;\n",
              "        element.appendChild(docLink);\n",
              "      }\n",
              "    </script>\n",
              "  </div>\n",
              "\n",
              "\n",
              "<div id=\"df-4edd2b1a-2f95-4843-a576-387f14cebfc8\">\n",
              "  <button class=\"colab-df-quickchart\" onclick=\"quickchart('df-4edd2b1a-2f95-4843-a576-387f14cebfc8')\"\n",
              "            title=\"Suggest charts\"\n",
              "            style=\"display:none;\">\n",
              "\n",
              "<svg xmlns=\"http://www.w3.org/2000/svg\" height=\"24px\"viewBox=\"0 0 24 24\"\n",
              "     width=\"24px\">\n",
              "    <g>\n",
              "        <path d=\"M19 3H5c-1.1 0-2 .9-2 2v14c0 1.1.9 2 2 2h14c1.1 0 2-.9 2-2V5c0-1.1-.9-2-2-2zM9 17H7v-7h2v7zm4 0h-2V7h2v10zm4 0h-2v-4h2v4z\"/>\n",
              "    </g>\n",
              "</svg>\n",
              "  </button>\n",
              "\n",
              "<style>\n",
              "  .colab-df-quickchart {\n",
              "      --bg-color: #E8F0FE;\n",
              "      --fill-color: #1967D2;\n",
              "      --hover-bg-color: #E2EBFA;\n",
              "      --hover-fill-color: #174EA6;\n",
              "      --disabled-fill-color: #AAA;\n",
              "      --disabled-bg-color: #DDD;\n",
              "  }\n",
              "\n",
              "  [theme=dark] .colab-df-quickchart {\n",
              "      --bg-color: #3B4455;\n",
              "      --fill-color: #D2E3FC;\n",
              "      --hover-bg-color: #434B5C;\n",
              "      --hover-fill-color: #FFFFFF;\n",
              "      --disabled-bg-color: #3B4455;\n",
              "      --disabled-fill-color: #666;\n",
              "  }\n",
              "\n",
              "  .colab-df-quickchart {\n",
              "    background-color: var(--bg-color);\n",
              "    border: none;\n",
              "    border-radius: 50%;\n",
              "    cursor: pointer;\n",
              "    display: none;\n",
              "    fill: var(--fill-color);\n",
              "    height: 32px;\n",
              "    padding: 0;\n",
              "    width: 32px;\n",
              "  }\n",
              "\n",
              "  .colab-df-quickchart:hover {\n",
              "    background-color: var(--hover-bg-color);\n",
              "    box-shadow: 0 1px 2px rgba(60, 64, 67, 0.3), 0 1px 3px 1px rgba(60, 64, 67, 0.15);\n",
              "    fill: var(--button-hover-fill-color);\n",
              "  }\n",
              "\n",
              "  .colab-df-quickchart-complete:disabled,\n",
              "  .colab-df-quickchart-complete:disabled:hover {\n",
              "    background-color: var(--disabled-bg-color);\n",
              "    fill: var(--disabled-fill-color);\n",
              "    box-shadow: none;\n",
              "  }\n",
              "\n",
              "  .colab-df-spinner {\n",
              "    border: 2px solid var(--fill-color);\n",
              "    border-color: transparent;\n",
              "    border-bottom-color: var(--fill-color);\n",
              "    animation:\n",
              "      spin 1s steps(1) infinite;\n",
              "  }\n",
              "\n",
              "  @keyframes spin {\n",
              "    0% {\n",
              "      border-color: transparent;\n",
              "      border-bottom-color: var(--fill-color);\n",
              "      border-left-color: var(--fill-color);\n",
              "    }\n",
              "    20% {\n",
              "      border-color: transparent;\n",
              "      border-left-color: var(--fill-color);\n",
              "      border-top-color: var(--fill-color);\n",
              "    }\n",
              "    30% {\n",
              "      border-color: transparent;\n",
              "      border-left-color: var(--fill-color);\n",
              "      border-top-color: var(--fill-color);\n",
              "      border-right-color: var(--fill-color);\n",
              "    }\n",
              "    40% {\n",
              "      border-color: transparent;\n",
              "      border-right-color: var(--fill-color);\n",
              "      border-top-color: var(--fill-color);\n",
              "    }\n",
              "    60% {\n",
              "      border-color: transparent;\n",
              "      border-right-color: var(--fill-color);\n",
              "    }\n",
              "    80% {\n",
              "      border-color: transparent;\n",
              "      border-right-color: var(--fill-color);\n",
              "      border-bottom-color: var(--fill-color);\n",
              "    }\n",
              "    90% {\n",
              "      border-color: transparent;\n",
              "      border-bottom-color: var(--fill-color);\n",
              "    }\n",
              "  }\n",
              "</style>\n",
              "\n",
              "  <script>\n",
              "    async function quickchart(key) {\n",
              "      const quickchartButtonEl =\n",
              "        document.querySelector('#' + key + ' button');\n",
              "      quickchartButtonEl.disabled = true;  // To prevent multiple clicks.\n",
              "      quickchartButtonEl.classList.add('colab-df-spinner');\n",
              "      try {\n",
              "        const charts = await google.colab.kernel.invokeFunction(\n",
              "            'suggestCharts', [key], {});\n",
              "      } catch (error) {\n",
              "        console.error('Error during call to suggestCharts:', error);\n",
              "      }\n",
              "      quickchartButtonEl.classList.remove('colab-df-spinner');\n",
              "      quickchartButtonEl.classList.add('colab-df-quickchart-complete');\n",
              "    }\n",
              "    (() => {\n",
              "      let quickchartButtonEl =\n",
              "        document.querySelector('#df-4edd2b1a-2f95-4843-a576-387f14cebfc8 button');\n",
              "      quickchartButtonEl.style.display =\n",
              "        google.colab.kernel.accessAllowed ? 'block' : 'none';\n",
              "    })();\n",
              "  </script>\n",
              "</div>\n",
              "    </div>\n",
              "  </div>\n"
            ],
            "application/vnd.google.colaboratory.intrinsic+json": {
              "type": "dataframe",
              "summary": "{\n  \"name\": \"df[index:index+int(60*700)]\",\n  \"rows\": 42000,\n  \"fields\": [\n    {\n      \"column\": \"c_ax\",\n      \"properties\": {\n        \"dtype\": \"number\",\n        \"std\": 0.03611178924836845,\n        \"min\": 0.5703999996185303,\n        \"max\": 1.3599998950958252,\n        \"num_unique_values\": 1447,\n        \"samples\": [\n          0.8500000238418579,\n          0.8142000436782837,\n          0.9989999532699585\n        ],\n        \"semantic_type\": \"\",\n        \"description\": \"\"\n      }\n    },\n    {\n      \"column\": \"c_ay\",\n      \"properties\": {\n        \"dtype\": \"number\",\n        \"std\": 0.05781136511214379,\n        \"min\": -0.6656000018119812,\n        \"max\": 0.5305999517440796,\n        \"num_unique_values\": 2112,\n        \"samples\": [\n          0.23380005359649658,\n          0.23280000686645508,\n          -0.11699998378753662\n        ],\n        \"semantic_type\": \"\",\n        \"description\": \"\"\n      }\n    },\n    {\n      \"column\": \"c_az\",\n      \"properties\": {\n        \"dtype\": \"number\",\n        \"std\": 0.12049041232460062,\n        \"min\": -1.3213999271392822,\n        \"max\": 1.4744000434875488,\n        \"num_unique_values\": 3144,\n        \"samples\": [\n          0.28540003299713135,\n          0.3725999593734741,\n          0.02240002155303955\n        ],\n        \"semantic_type\": \"\",\n        \"description\": \"\"\n      }\n    },\n    {\n      \"column\": \"c_ecg\",\n      \"properties\": {\n        \"dtype\": \"number\",\n        \"std\": 0.2999607659955076,\n        \"min\": -0.5977935791015625,\n        \"max\": 1.4993133544921875,\n        \"num_unique_values\": 10420,\n        \"samples\": [\n          0.0303955078125,\n          -0.0007781982421875,\n          1.4458465576171875\n        ],\n        \"semantic_type\": \"\",\n        \"description\": \"\"\n      }\n    },\n    {\n      \"column\": \"c_emg\",\n      \"properties\": {\n        \"dtype\": \"number\",\n        \"std\": 0.021463875446785935,\n        \"min\": -0.1977081298828125,\n        \"max\": 0.2110748291015625,\n        \"num_unique_values\": 2864,\n        \"samples\": [\n          0.014373779296875,\n          -0.04449462890625,\n          0.0088348388671875\n        ],\n        \"semantic_type\": \"\",\n        \"description\": \"\"\n      }\n    },\n    {\n      \"column\": \"c_eda\",\n      \"properties\": {\n        \"dtype\": \"number\",\n        \"std\": 0.051104520546976145,\n        \"min\": 5.368804931640625,\n        \"max\": 5.6652069091796875,\n        \"num_unique_values\": 647,\n        \"samples\": [\n          5.615997314453125,\n          5.4569244384765625,\n          5.5591583251953125\n        ],\n        \"semantic_type\": \"\",\n        \"description\": \"\"\n      }\n    },\n    {\n      \"column\": \"c_temp\",\n      \"properties\": {\n        \"dtype\": \"number\",\n        \"std\": 0.08851084354077776,\n        \"min\": 32.102783203125,\n        \"max\": 32.591400146484375,\n        \"num_unique_values\": 306,\n        \"samples\": [\n          32.291595458984375,\n          32.3377685546875,\n          32.539093017578125\n        ],\n        \"semantic_type\": \"\",\n        \"description\": \"\"\n      }\n    },\n    {\n      \"column\": \"c_resp\",\n      \"properties\": {\n        \"dtype\": \"number\",\n        \"std\": 4.311922651934845,\n        \"min\": -10.23101806640625,\n        \"max\": 11.43341064453125,\n        \"num_unique_values\": 10106,\n        \"samples\": [\n          5.58013916015625,\n          6.60247802734375,\n          1.324462890625\n        ],\n        \"semantic_type\": \"\",\n        \"description\": \"\"\n      }\n    },\n    {\n      \"column\": \"w_label\",\n      \"properties\": {\n        \"dtype\": \"number\",\n        \"std\": 0.0,\n        \"min\": 0.0,\n        \"max\": 0.0,\n        \"num_unique_values\": 1,\n        \"samples\": [\n          0.0\n        ],\n        \"semantic_type\": \"\",\n        \"description\": \"\"\n      }\n    }\n  ]\n}"
            }
          },
          "metadata": {},
          "execution_count": 21
        }
      ]
    },
    {
      "cell_type": "code",
      "source": [
        "plt.plot(df['w_label'])"
      ],
      "metadata": {
        "colab": {
          "base_uri": "https://localhost:8080/",
          "height": 466
        },
        "id": "BCDULpK4yNGV",
        "outputId": "5eb1099a-d11f-4835-e1e1-b44ff86f7aaf"
      },
      "execution_count": null,
      "outputs": [
        {
          "output_type": "execute_result",
          "data": {
            "text/plain": [
              "[<matplotlib.lines.Line2D at 0x78a65c911810>]"
            ]
          },
          "metadata": {},
          "execution_count": 22
        },
        {
          "output_type": "display_data",
          "data": {
            "text/plain": [
              "<Figure size 640x480 with 1 Axes>"
            ],
            "image/png": "[encoded data removed]"
          },
          "metadata": {}
        }
      ]
    },
    {
      "cell_type": "code",
      "source": [
        "plt.plot(df['c_ecg'][:int(1e6)])"
      ],
      "metadata": {
        "colab": {
          "base_uri": "https://localhost:8080/",
          "height": 466
        },
        "id": "LQHvbyB6x9Eu",
        "outputId": "c2275c5f-ee2f-4b29-a8d3-81cf1cab186b"
      },
      "execution_count": null,
      "outputs": [
        {
          "output_type": "execute_result",
          "data": {
            "text/plain": [
              "[<matplotlib.lines.Line2D at 0x78a65c79b670>]"
            ]
          },
          "metadata": {},
          "execution_count": 23
        },
        {
          "output_type": "display_data",
          "data": {
            "text/plain": [
              "<Figure size 640x480 with 1 Axes>"
            ],
            "image/png": "[encoded data removed]"
          },
          "metadata": {}
        }
      ]
    },
    {
      "cell_type": "code",
      "source": [
        "plt.plot(df['c_ecg'][int(1e6): int(1.6e6)])"
      ],
      "metadata": {
        "colab": {
          "base_uri": "https://localhost:8080/",
          "height": 466
        },
        "id": "_s5nFpKWyi-7",
        "outputId": "8133c876-7704-46e6-fcc6-42c4b3183d63"
      },
      "execution_count": null,
      "outputs": [
        {
          "output_type": "execute_result",
          "data": {
            "text/plain": [
              "[<matplotlib.lines.Line2D at 0x78a65c7b0070>]"
            ]
          },
          "metadata": {},
          "execution_count": 24
        },
        {
          "output_type": "display_data",
          "data": {
            "text/plain": [
              "<Figure size 640x480 with 1 Axes>"
            ],
            "image/png": "[encoded data removed]"
          },
          "metadata": {}
        }
      ]
    },
    {
      "cell_type": "code",
      "source": [
        "plt.plot(df['c_ecg'][int(1.6e6):int(2e6)])"
      ],
      "metadata": {
        "colab": {
          "base_uri": "https://localhost:8080/",
          "height": 466
        },
        "id": "04_AK97-y27k",
        "outputId": "1a43324c-20bf-476a-8d43-ec58d772c45e"
      },
      "execution_count": null,
      "outputs": [
        {
          "output_type": "execute_result",
          "data": {
            "text/plain": [
              "[<matplotlib.lines.Line2D at 0x78a65c1913c0>]"
            ]
          },
          "metadata": {},
          "execution_count": 25
        },
        {
          "output_type": "display_data",
          "data": {
            "text/plain": [
              "<Figure size 640x480 with 1 Axes>"
            ],
            "image/png": "[encoded data removed]"
          },
          "metadata": {}
        }
      ]
    },
    {
      "cell_type": "code",
      "source": [
        "plt.plot(df['c_ecg'][int(3.4e6):int(3.6e6)])"
      ],
      "metadata": {
        "colab": {
          "base_uri": "https://localhost:8080/",
          "height": 466
        },
        "id": "_zShEJsbzDOQ",
        "outputId": "4db8ce6d-5789-44d2-c0f3-ca3b1ec540fa"
      },
      "execution_count": null,
      "outputs": [
        {
          "output_type": "execute_result",
          "data": {
            "text/plain": [
              "[<matplotlib.lines.Line2D at 0x78a65c20f2e0>]"
            ]
          },
          "metadata": {},
          "execution_count": 26
        },
        {
          "output_type": "display_data",
          "data": {
            "text/plain": [
              "<Figure size 640x480 with 1 Axes>"
            ],
            "image/png": "[encoded data removed]"
          },
          "metadata": {}
        }
      ]
    },
    {
      "cell_type": "markdown",
      "source": [
        "# Get only the intended class dataframe"
      ],
      "metadata": {
        "id": "szlUJQrI0otK"
      }
    },
    {
      "cell_type": "code",
      "source": [
        "dfClass1 = df[df['w_label'].isin([1])]\n",
        "dfClass2 = df[df['w_label'].isin([2])]\n",
        "dfClass3 = df[df['w_label'].isin([3])]"
      ],
      "metadata": {
        "id": "4AP9eGTw0oEv"
      },
      "execution_count": null,
      "outputs": []
    },
    {
      "cell_type": "code",
      "source": [
        "def dfWindow(df):\n",
        "  index = 0\n",
        "  dfList = []\n",
        "  while(index+int(60*700)<len(df)):\n",
        "    dfList.append(df[index:index+int(60*700)])\n",
        "    index = index + int(0.25*700)\n",
        "  return dfList"
      ],
      "metadata": {
        "id": "IkfGZy5_1r2i"
      },
      "execution_count": null,
      "outputs": []
    },
    {
      "cell_type": "code",
      "source": [
        "os.mkdir(f'/content/drive/MyDrive/PhD research/Stress Detection/{SUBJECT_NO}')"
      ],
      "metadata": {
        "id": "qGSmknzTSA_H"
      },
      "execution_count": null,
      "outputs": []
    },
    {
      "cell_type": "code",
      "source": [
        "dfClass1.to_csv(f'/content/drive/MyDrive/PhD research/Stress Detection/{SUBJECT_NO}/{SUBJECT_NO}_Class_1.csv', index = False)\n",
        "dfClass2.to_csv(f'/content/drive/MyDrive/PhD research/Stress Detection/{SUBJECT_NO}/{SUBJECT_NO}_Class_2.csv', index = False)\n",
        "dfClass3.to_csv(f'/content/drive/MyDrive/PhD research/Stress Detection/{SUBJECT_NO}/{SUBJECT_NO}_Class_3.csv', index = False)"
      ],
      "metadata": {
        "id": "qXT1IkCURI76"
      },
      "execution_count": null,
      "outputs": []
    }
  ]
}